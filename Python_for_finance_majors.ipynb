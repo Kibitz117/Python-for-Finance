{
 "cells": [
  {
   "cell_type": "code",
   "execution_count": null,
   "source": [],
   "outputs": [],
   "metadata": {}
  },
  {
   "cell_type": "markdown",
   "source": [
    "# Introduction to Python for Finance Majors"
   ],
   "metadata": {}
  },
  {
   "cell_type": "markdown",
   "source": [
    "First off you may be wondering why you should learn Python if you are thinking about going into finance.\r\n",
    "Here are some things it could help you do\r\n",
    "1) Scrape data off the internet to do price analysis\r\n",
    "2) Better and faster way to visualize data for presentations\r\n",
    "3)It makes analysis tasks faster"
   ],
   "metadata": {}
  },
  {
   "cell_type": "markdown",
   "source": [],
   "metadata": {}
  },
  {
   "cell_type": "markdown",
   "source": [
    "If you're still reading let's start with an Intro to Python using Jupyter Notebooks. Jupyter notebooks are great because they allow you to write small bits of code and run it one at a time while seeing output."
   ],
   "metadata": {}
  },
  {
   "cell_type": "markdown",
   "source": [
    "- To follow along with this notebook download it here\r\n",
    "- Open Google Collab(Google's free online Python notebook)\r\n",
    "- Navigative to upload and upload this notebook"
   ],
   "metadata": {}
  },
  {
   "cell_type": "markdown",
   "source": [],
   "metadata": {}
  },
  {
   "cell_type": "markdown",
   "source": [
    "Let's get started coding. Below you will see a code input section referred to as a cell."
   ],
   "metadata": {}
  },
  {
   "cell_type": "markdown",
   "source": [
    "Below we are setting our variable a to 5 and b to 6. Then we are adding them together. Because both of these variables are integer values it will just add the numbers together."
   ],
   "metadata": {}
  },
  {
   "cell_type": "code",
   "execution_count": 17,
   "source": [
    "a=5\r\n",
    "b=6\r\n",
    "a+b"
   ],
   "outputs": [
    {
     "output_type": "execute_result",
     "data": {
      "text/plain": [
       "11"
      ]
     },
     "metadata": {},
     "execution_count": 17
    }
   ],
   "metadata": {}
  },
  {
   "cell_type": "markdown",
   "source": [
    "We can also do any other mathematical operation on these variables like addition, subtraction, division, multiplication, and modulo. The result will only be saved if you set it to a variable like below."
   ],
   "metadata": {}
  },
  {
   "cell_type": "code",
   "execution_count": 18,
   "source": [
    "c=a/b\r\n",
    "c"
   ],
   "outputs": [
    {
     "output_type": "execute_result",
     "data": {
      "text/plain": [
       "0.8333333333333334"
      ]
     },
     "metadata": {},
     "execution_count": 18
    }
   ],
   "metadata": {}
  },
  {
   "cell_type": "markdown",
   "source": [
    "Python has dynamic typing, which means that I can change my variables a and b to other variable types. Below we will make a and b into strings."
   ],
   "metadata": {}
  },
  {
   "cell_type": "code",
   "execution_count": 19,
   "source": [
    "print(type(a))\r\n",
    "print(type(b))"
   ],
   "outputs": [
    {
     "output_type": "stream",
     "name": "stdout",
     "text": [
      "<class 'int'>\n",
      "<class 'int'>\n"
     ]
    }
   ],
   "metadata": {}
  },
  {
   "cell_type": "markdown",
   "source": [
    "We can see that right now a and b are int values. Let's change them to strings to see what happens."
   ],
   "metadata": {}
  },
  {
   "cell_type": "code",
   "execution_count": 20,
   "source": [
    "a=\"Joe\"\r\n",
    "b=\"Jill\"\r\n",
    "print(type(a))\r\n",
    "print(type(b))"
   ],
   "outputs": [
    {
     "output_type": "stream",
     "name": "stdout",
     "text": [
      "<class 'str'>\n",
      "<class 'str'>\n"
     ]
    }
   ],
   "metadata": {}
  },
  {
   "cell_type": "markdown",
   "source": [
    "We can see that after redifinding a and b they are now str values. Strings are just a collection of characters."
   ],
   "metadata": {}
  },
  {
   "cell_type": "markdown",
   "source": [
    "Lastly, for this intro we will go over how to import packages. When using Python for Finance you will mostly be using external packages, but Python makes it super easy to import and use these packages."
   ],
   "metadata": {}
  },
  {
   "cell_type": "code",
   "execution_count": 22,
   "source": [
    "import numpy as np\r\n",
    "array=np.array([1,2,3,4])\r\n",
    "array"
   ],
   "outputs": [
    {
     "output_type": "execute_result",
     "data": {
      "text/plain": [
       "array([1, 2, 3, 4])"
      ]
     },
     "metadata": {},
     "execution_count": 22
    }
   ],
   "metadata": {}
  },
  {
   "cell_type": "markdown",
   "source": [
    "The numpy package in Python is one of the most widely used for advanced mathematical operations. You can see we imported it \"as np\" this is just the nickname we can use to easily call any of numpy's functions. \r\n",
    "Numpy has an array function, so we simply called np.array and filled it with a list. An array can contain a list of numbers,strings, etc.. \r\n"
   ],
   "metadata": {}
  },
  {
   "cell_type": "markdown",
   "source": [
    "This is all for part 1, but next time we will go into depth on Numpy and a library called Pandas"
   ],
   "metadata": {}
  },
  {
   "cell_type": "code",
   "execution_count": null,
   "source": [],
   "outputs": [],
   "metadata": {}
  }
 ],
 "metadata": {
  "orig_nbformat": 4,
  "language_info": {
   "name": "python",
   "version": "3.8.2",
   "mimetype": "text/x-python",
   "codemirror_mode": {
    "name": "ipython",
    "version": 3
   },
   "pygments_lexer": "ipython3",
   "nbconvert_exporter": "python",
   "file_extension": ".py"
  },
  "kernelspec": {
   "name": "python3",
   "display_name": "Python 3.8.2 64-bit"
  },
  "interpreter": {
   "hash": "2db524e06e9f5f4ffedc911c917cb75e12dbc923643829bf417064a77eb14d37"
  }
 },
 "nbformat": 4,
 "nbformat_minor": 2
}